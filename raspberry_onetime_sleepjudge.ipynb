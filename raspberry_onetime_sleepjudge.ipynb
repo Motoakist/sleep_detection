{
 "cells": [
  {
   "cell_type": "code",
   "execution_count": 2,
   "metadata": {},
   "outputs": [
    {
     "name": "stdout",
     "output_type": "stream",
     "text": [
      "faces : [[541  83  44  44]\n",
      " [522 173 325 325]]\n",
      "eyes : [[ 66  88  58  58]\n",
      " [188  87  66  66]]\n"
     ]
    }
   ],
   "source": [
    "# import time\n",
    "# import RPi.GPIO as GPIO\n",
    "import cv2\n",
    "# def lotate(degree):\n",
    "#     dc = 2.5 + (12.0-2.5)/180*(degree+90)\n",
    "#     p.ChangeDutyCycle(dc)\n",
    "#     time.sleep(0.5)\n",
    "#     p.ChangeDutyCycle(0.0)\n",
    "face_cascade_path = \"haarcascade_frontalface_alt.xml\"\n",
    "eye_cascade_path = 'haarcascade_eye.xml'\n",
    "face_cascade = cv2.CascadeClassifier(face_cascade_path)\n",
    "eye_cascade = cv2.CascadeClassifier(eye_cascade_path)\n",
    "# GPIO.setmode(GPIO.BCM)\n",
    "# GPIO.setup(4, GPIO.OUT)\n",
    "# p = GPIO.PWM(4, 50)\n",
    "a = 1\n",
    "deviceid = 0\n",
    "try:\n",
    "    capture = cv2.VideoCapture(deviceid)\n",
    "    ret, frame = capture.read()\n",
    "    ret, frame = capture.read()\n",
    "    cv2.imwrite('./image/test11.jpg', frame,[cv2.IMWRITE_JPEG_QUALITY, 10])\n",
    "except:\n",
    "    print(\"camera error\")\n",
    "src = cv2.imread('./image/test11.jpg')\n",
    "src_gray = cv2.cvtColor(src, cv2.COLOR_BGR2GRAY)\n",
    "equ_gray = cv2.equalizeHist(src_gray)\n",
    "faces = face_cascade.detectMultiScale(equ_gray,scaleFactor=1.13,minNeighbors=2)\n",
    "eyes = ()\n",
    "for x, y, w, h in faces:\n",
    "    cv2.rectangle(src, (x, y), (x + w, y + h), (255, 0, 255), 2)\n",
    "    face = src[y: y + h, x: x + w]\n",
    "    face_gray = src_gray[y: y + h, x: x + w]\n",
    "    eyes = eye_cascade.detectMultiScale(face_gray)\n",
    "    for (ex, ey, ew, eh) in eyes:\n",
    "        cv2.rectangle(face, (ex, ey), (ex + ew, ey + eh), (0, 255, 0), 2)\n",
    "cv2.imwrite('./opencv_face_detect_rectangle.jpg', src)\n",
    "print(f\"faces : {faces}\")\n",
    "print(f\"eyes : {eyes}\")"
   ]
  },
  {
   "cell_type": "code",
   "execution_count": null,
   "metadata": {},
   "outputs": [],
   "source": [
    "# # print(\"faces : \",faces)\n",
    "# # print(\"eyes : \",eyes)\n",
    "# for x, y, w, h in faces:\n",
    "#     face = src[y: y + h, x: x + w]\n",
    "#     for (ex, ey, ew, eh) in eyes:\n",
    "#         cut_img = face[ey : ey + eh, ex:ex + ew]\n",
    "#         # cv2.imwrite(\"image_eyes/\"+str(time.time())+\".jpg\", cut_img)\n",
    "\n",
    "# print(len(faces))\n",
    "# print(len(eyes))\n",
    "\n",
    "# if len(faces) == 0:\n",
    "#     #Duty Cycle 0% \n",
    "#     p.start(0.0)\n",
    "#     #move\n",
    "#     lotate(-20)\n",
    "# else:\n",
    "#     #Duty Cycle 0% \n",
    "#     p.start(0.0)\n",
    "#     #move\n",
    "#     lotate(7)\n",
    "\n",
    "time.sleep(5)\n",
    "\n",
    "GPIO.cleanup()\n"
   ]
  }
 ],
 "metadata": {
  "kernelspec": {
   "display_name": "Python 3",
   "language": "python",
   "name": "python3"
  },
  "language_info": {
   "codemirror_mode": {
    "name": "ipython",
    "version": 3
   },
   "file_extension": ".py",
   "mimetype": "text/x-python",
   "name": "python",
   "nbconvert_exporter": "python",
   "pygments_lexer": "ipython3",
   "version": "3.6.10"
  }
 },
 "nbformat": 4,
 "nbformat_minor": 4
}
