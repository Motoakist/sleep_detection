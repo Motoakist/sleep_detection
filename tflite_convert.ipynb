{
 "cells": [
  {
   "cell_type": "code",
   "execution_count": null,
   "metadata": {},
   "outputs": [],
   "source": [
    "converter = tf.lite.TFLiteConverter.from_keras_model_file(\"myCNNClassificationAwakeSleep.h5\")\n",
    "tflite_model = converter.convert()\n",
    "open(\"converted_model.tflite\", \"wb\").write(tflite_model)"
   ]
  },
  {
   "cell_type": "code",
   "execution_count": null,
   "metadata": {},
   "outputs": [],
   "source": []
  },
  {
   "cell_type": "code",
   "execution_count": 3,
   "metadata": {},
   "outputs": [
    {
     "name": "stderr",
     "output_type": "stream",
     "text": [
      "/anaconda3/envs/experiment/lib/python3.7/site-packages/tensorflow/python/framework/dtypes.py:516: FutureWarning: Passing (type, 1) or '1type' as a synonym of type is deprecated; in a future version of numpy, it will be understood as (type, (1,)) / '(1,)type'.\n",
      "  _np_qint8 = np.dtype([(\"qint8\", np.int8, 1)])\n",
      "/anaconda3/envs/experiment/lib/python3.7/site-packages/tensorflow/python/framework/dtypes.py:517: FutureWarning: Passing (type, 1) or '1type' as a synonym of type is deprecated; in a future version of numpy, it will be understood as (type, (1,)) / '(1,)type'.\n",
      "  _np_quint8 = np.dtype([(\"quint8\", np.uint8, 1)])\n",
      "/anaconda3/envs/experiment/lib/python3.7/site-packages/tensorflow/python/framework/dtypes.py:518: FutureWarning: Passing (type, 1) or '1type' as a synonym of type is deprecated; in a future version of numpy, it will be understood as (type, (1,)) / '(1,)type'.\n",
      "  _np_qint16 = np.dtype([(\"qint16\", np.int16, 1)])\n",
      "/anaconda3/envs/experiment/lib/python3.7/site-packages/tensorflow/python/framework/dtypes.py:519: FutureWarning: Passing (type, 1) or '1type' as a synonym of type is deprecated; in a future version of numpy, it will be understood as (type, (1,)) / '(1,)type'.\n",
      "  _np_quint16 = np.dtype([(\"quint16\", np.uint16, 1)])\n",
      "/anaconda3/envs/experiment/lib/python3.7/site-packages/tensorflow/python/framework/dtypes.py:520: FutureWarning: Passing (type, 1) or '1type' as a synonym of type is deprecated; in a future version of numpy, it will be understood as (type, (1,)) / '(1,)type'.\n",
      "  _np_qint32 = np.dtype([(\"qint32\", np.int32, 1)])\n",
      "/anaconda3/envs/experiment/lib/python3.7/site-packages/tensorflow/python/framework/dtypes.py:525: FutureWarning: Passing (type, 1) or '1type' as a synonym of type is deprecated; in a future version of numpy, it will be understood as (type, (1,)) / '(1,)type'.\n",
      "  np_resource = np.dtype([(\"resource\", np.ubyte, 1)])\n",
      "/anaconda3/envs/experiment/lib/python3.7/site-packages/tensorboard/compat/tensorflow_stub/dtypes.py:541: FutureWarning: Passing (type, 1) or '1type' as a synonym of type is deprecated; in a future version of numpy, it will be understood as (type, (1,)) / '(1,)type'.\n",
      "  _np_qint8 = np.dtype([(\"qint8\", np.int8, 1)])\n",
      "/anaconda3/envs/experiment/lib/python3.7/site-packages/tensorboard/compat/tensorflow_stub/dtypes.py:542: FutureWarning: Passing (type, 1) or '1type' as a synonym of type is deprecated; in a future version of numpy, it will be understood as (type, (1,)) / '(1,)type'.\n",
      "  _np_quint8 = np.dtype([(\"quint8\", np.uint8, 1)])\n",
      "/anaconda3/envs/experiment/lib/python3.7/site-packages/tensorboard/compat/tensorflow_stub/dtypes.py:543: FutureWarning: Passing (type, 1) or '1type' as a synonym of type is deprecated; in a future version of numpy, it will be understood as (type, (1,)) / '(1,)type'.\n",
      "  _np_qint16 = np.dtype([(\"qint16\", np.int16, 1)])\n",
      "/anaconda3/envs/experiment/lib/python3.7/site-packages/tensorboard/compat/tensorflow_stub/dtypes.py:544: FutureWarning: Passing (type, 1) or '1type' as a synonym of type is deprecated; in a future version of numpy, it will be understood as (type, (1,)) / '(1,)type'.\n",
      "  _np_quint16 = np.dtype([(\"quint16\", np.uint16, 1)])\n",
      "/anaconda3/envs/experiment/lib/python3.7/site-packages/tensorboard/compat/tensorflow_stub/dtypes.py:545: FutureWarning: Passing (type, 1) or '1type' as a synonym of type is deprecated; in a future version of numpy, it will be understood as (type, (1,)) / '(1,)type'.\n",
      "  _np_qint32 = np.dtype([(\"qint32\", np.int32, 1)])\n",
      "/anaconda3/envs/experiment/lib/python3.7/site-packages/tensorboard/compat/tensorflow_stub/dtypes.py:550: FutureWarning: Passing (type, 1) or '1type' as a synonym of type is deprecated; in a future version of numpy, it will be understood as (type, (1,)) / '(1,)type'.\n",
      "  np_resource = np.dtype([(\"resource\", np.ubyte, 1)])\n"
     ]
    }
   ],
   "source": [
    "import tensorflow as tf\n",
    "import numpy as np\n",
    "from tensorflow.keras.preprocessing.image import load_img, img_to_array"
   ]
  },
  {
   "cell_type": "code",
   "execution_count": 20,
   "metadata": {},
   "outputs": [],
   "source": [
    "# TFLiteモデルの読み込み\n",
    "interpreter = tf.lite.Interpreter(model_path=\"converted_model.tflite\")\n",
    "# メモリ確保。これはモデル読み込み直後に必須\n",
    "interpreter.allocate_tensors()\n",
    "\n",
    "# 学習モデルの入力層・出力層のプロパティをGet.\n",
    "input_details = interpreter.get_input_details()\n",
    "output_details = interpreter.get_output_details()"
   ]
  },
  {
   "cell_type": "code",
   "execution_count": 21,
   "metadata": {},
   "outputs": [],
   "source": [
    "# new_model = tf.keras.models.load_model('converted_model.tflite')"
   ]
  },
  {
   "cell_type": "code",
   "execution_count": 22,
   "metadata": {},
   "outputs": [],
   "source": [
    "trainingImgData = np.zeros((1, 128, 128, 1))\n",
    "fnametmp = './image/test11.jpg'\n",
    "trainingImgData[0] = np.array(img_to_array(load_img(fnametmp, grayscale=True, target_size=(128,128))))/255.0\n",
    "trainingImgData = np.float32(trainingImgData)\n"
   ]
  },
  {
   "cell_type": "code",
   "execution_count": 23,
   "metadata": {},
   "outputs": [
    {
     "name": "stdout",
     "output_type": "stream",
     "text": [
      "0.77541137\n"
     ]
    }
   ],
   "source": [
    "# Get input and output tensors.\n",
    "input_details = interpreter.get_input_details()\n",
    "output_details = interpreter.get_output_details()\n",
    "\n",
    "# Test the model on random input data.\n",
    "interpreter.set_tensor(input_details[0]['index'], trainingImgData)\n",
    "interpreter.invoke()\n",
    "\n",
    "# The function `get_tensor()` returns a copy of the tensor data.\n",
    "# Use `tensor()` in order to get a pointer to the tensor.\n",
    "output_data = interpreter.get_tensor(output_details[0]['index'])\n",
    "print(output_data[0][0])"
   ]
  },
  {
   "cell_type": "code",
   "execution_count": null,
   "metadata": {},
   "outputs": [],
   "source": [
    "# Get input and output tensors.\n",
    "input_details = interpreter.get_input_details()\n",
    "output_details = interpreter.get_output_details()\n",
    "\n",
    "# Test the model on random input data.\n",
    "input_shape = input_details[0]['shape']\n",
    "input_data = np.array(np.random.random_sample(input_shape), dtype=np.float32)\n",
    "interpreter.set_tensor(input_details[0]['index'], input_data)"
   ]
  },
  {
   "cell_type": "code",
   "execution_count": null,
   "metadata": {},
   "outputs": [
    {
     "name": "stdout",
     "output_type": "stream",
     "text": [
      "import _frozen_importlib # frozen\r\n",
      "import _imp # builtin\r\n",
      "import '_thread' # <class '_frozen_importlib.BuiltinImporter'>\r\n",
      "import '_warnings' # <class '_frozen_importlib.BuiltinImporter'>\r\n",
      "import '_weakref' # <class '_frozen_importlib.BuiltinImporter'>\r\n",
      "# installing zipimport hook\r\n",
      "import 'zipimport' # <class '_frozen_importlib.BuiltinImporter'>\r\n",
      "# installed zipimport hook\r\n",
      "import '_frozen_importlib_external' # <class '_frozen_importlib.FrozenImporter'>\r\n",
      "import '_io' # <class '_frozen_importlib.BuiltinImporter'>\r\n",
      "import 'marshal' # <class '_frozen_importlib.BuiltinImporter'>\r\n",
      "import 'posix' # <class '_frozen_importlib.BuiltinImporter'>\r\n",
      "import _thread # previously loaded ('_thread')\r\n",
      "import '_thread' # <class '_frozen_importlib.BuiltinImporter'>\r\n",
      "import _weakref # previously loaded ('_weakref')\r\n",
      "import '_weakref' # <class '_frozen_importlib.BuiltinImporter'>\r\n",
      "# /anaconda3/envs/experiment/lib/python3.7/encodings/__pycache__/__init__.cpython-37.pyc matches /anaconda3/envs/experiment/lib/python3.7/encodings/__init__.py\r\n",
      "# code object from '/anaconda3/envs/experiment/lib/python3.7/encodings/__pycache__/__init__.cpython-37.pyc'\r\n",
      "# /anaconda3/envs/experiment/lib/python3.7/__pycache__/codecs.cpython-37.pyc matches /anaconda3/envs/experiment/lib/python3.7/codecs.py\r\n",
      "# code object from '/anaconda3/envs/experiment/lib/python3.7/__pycache__/codecs.cpython-37.pyc'\r\n",
      "import '_codecs' # <class '_frozen_importlib.BuiltinImporter'>\r\n",
      "import 'codecs' # <_frozen_importlib_external.SourceFileLoader object at 0x109238cd0>\r\n",
      "# /anaconda3/envs/experiment/lib/python3.7/encodings/__pycache__/aliases.cpython-37.pyc matches /anaconda3/envs/experiment/lib/python3.7/encodings/aliases.py\r\n",
      "# code object from '/anaconda3/envs/experiment/lib/python3.7/encodings/__pycache__/aliases.cpython-37.pyc'\r\n",
      "import 'encodings.aliases' # <_frozen_importlib_external.SourceFileLoader object at 0x10929cd90>\r\n",
      "import 'encodings' # <_frozen_importlib_external.SourceFileLoader object at 0x109238150>\r\n",
      "# /anaconda3/envs/experiment/lib/python3.7/encodings/__pycache__/utf_8.cpython-37.pyc matches /anaconda3/envs/experiment/lib/python3.7/encodings/utf_8.py\r\n",
      "# code object from '/anaconda3/envs/experiment/lib/python3.7/encodings/__pycache__/utf_8.cpython-37.pyc'\r\n",
      "import 'encodings.utf_8' # <_frozen_importlib_external.SourceFileLoader object at 0x109238c90>\r\n",
      "import '_signal' # <class '_frozen_importlib.BuiltinImporter'>\r\n",
      "# /anaconda3/envs/experiment/lib/python3.7/encodings/__pycache__/latin_1.cpython-37.pyc matches /anaconda3/envs/experiment/lib/python3.7/encodings/latin_1.py\r\n",
      "# code object from '/anaconda3/envs/experiment/lib/python3.7/encodings/__pycache__/latin_1.cpython-37.pyc'\r\n",
      "import 'encodings.latin_1' # <_frozen_importlib_external.SourceFileLoader object at 0x109291390>\r\n",
      "# /anaconda3/envs/experiment/lib/python3.7/__pycache__/io.cpython-37.pyc matches /anaconda3/envs/experiment/lib/python3.7/io.py\r\n",
      "# code object from '/anaconda3/envs/experiment/lib/python3.7/__pycache__/io.cpython-37.pyc'\r\n",
      "# /anaconda3/envs/experiment/lib/python3.7/__pycache__/abc.cpython-37.pyc matches /anaconda3/envs/experiment/lib/python3.7/abc.py\r\n",
      "# code object from '/anaconda3/envs/experiment/lib/python3.7/__pycache__/abc.cpython-37.pyc'\r\n",
      "import '_abc' # <class '_frozen_importlib.BuiltinImporter'>\r\n",
      "import 'abc' # <_frozen_importlib_external.SourceFileLoader object at 0x109291d50>\r\n",
      "import 'io' # <_frozen_importlib_external.SourceFileLoader object at 0x109291410>\r\n",
      "# /anaconda3/envs/experiment/lib/python3.7/__pycache__/site.cpython-37.pyc matches /anaconda3/envs/experiment/lib/python3.7/site.py\r\n",
      "# code object from '/anaconda3/envs/experiment/lib/python3.7/__pycache__/site.cpython-37.pyc'\r\n",
      "# /anaconda3/envs/experiment/lib/python3.7/__pycache__/os.cpython-37.pyc matches /anaconda3/envs/experiment/lib/python3.7/os.py\r\n",
      "# code object from '/anaconda3/envs/experiment/lib/python3.7/__pycache__/os.cpython-37.pyc'\r\n",
      "# /anaconda3/envs/experiment/lib/python3.7/__pycache__/stat.cpython-37.pyc matches /anaconda3/envs/experiment/lib/python3.7/stat.py\r\n",
      "# code object from '/anaconda3/envs/experiment/lib/python3.7/__pycache__/stat.cpython-37.pyc'\r\n",
      "import '_stat' # <class '_frozen_importlib.BuiltinImporter'>\r\n",
      "import 'stat' # <_frozen_importlib_external.SourceFileLoader object at 0x109326950>\r\n",
      "# /anaconda3/envs/experiment/lib/python3.7/__pycache__/_collections_abc.cpython-37.pyc matches /anaconda3/envs/experiment/lib/python3.7/_collections_abc.py\r\n",
      "# code object from '/anaconda3/envs/experiment/lib/python3.7/__pycache__/_collections_abc.cpython-37.pyc'\r\n",
      "import '_collections_abc' # <_frozen_importlib_external.SourceFileLoader object at 0x10932a450>\r\n",
      "# /anaconda3/envs/experiment/lib/python3.7/__pycache__/posixpath.cpython-37.pyc matches /anaconda3/envs/experiment/lib/python3.7/posixpath.py\r\n",
      "# code object from '/anaconda3/envs/experiment/lib/python3.7/__pycache__/posixpath.cpython-37.pyc'\r\n",
      "# /anaconda3/envs/experiment/lib/python3.7/__pycache__/genericpath.cpython-37.pyc matches /anaconda3/envs/experiment/lib/python3.7/genericpath.py\r\n",
      "# code object from '/anaconda3/envs/experiment/lib/python3.7/__pycache__/genericpath.cpython-37.pyc'\r\n",
      "import 'genericpath' # <_frozen_importlib_external.SourceFileLoader object at 0x10935c2d0>\r\n",
      "import 'posixpath' # <_frozen_importlib_external.SourceFileLoader object at 0x10933a450>\r\n",
      "import 'os' # <_frozen_importlib_external.SourceFileLoader object at 0x1092b8950>\r\n",
      "# /anaconda3/envs/experiment/lib/python3.7/__pycache__/_sitebuiltins.cpython-37.pyc matches /anaconda3/envs/experiment/lib/python3.7/_sitebuiltins.py\r\n",
      "# code object from '/anaconda3/envs/experiment/lib/python3.7/__pycache__/_sitebuiltins.cpython-37.pyc'\r\n",
      "import '_sitebuiltins' # <_frozen_importlib_external.SourceFileLoader object at 0x1092b8f10>\r\n",
      "# /anaconda3/envs/experiment/lib/python3.7/__pycache__/_bootlocale.cpython-37.pyc matches /anaconda3/envs/experiment/lib/python3.7/_bootlocale.py\r\n",
      "# code object from '/anaconda3/envs/experiment/lib/python3.7/__pycache__/_bootlocale.cpython-37.pyc'\r\n",
      "import '_locale' # <class '_frozen_importlib.BuiltinImporter'>\r\n",
      "import '_bootlocale' # <_frozen_importlib_external.SourceFileLoader object at 0x10931d450>\r\n",
      "# /anaconda3/envs/experiment/lib/python3.7/__pycache__/types.cpython-37.pyc matches /anaconda3/envs/experiment/lib/python3.7/types.py\r\n",
      "# code object from '/anaconda3/envs/experiment/lib/python3.7/__pycache__/types.cpython-37.pyc'\r\n",
      "import 'types' # <_frozen_importlib_external.SourceFileLoader object at 0x109379390>\r\n",
      "# /anaconda3/envs/experiment/lib/python3.7/importlib/__pycache__/__init__.cpython-37.pyc matches /anaconda3/envs/experiment/lib/python3.7/importlib/__init__.py\r\n",
      "# code object from '/anaconda3/envs/experiment/lib/python3.7/importlib/__pycache__/__init__.cpython-37.pyc'\r\n",
      "# /anaconda3/envs/experiment/lib/python3.7/__pycache__/warnings.cpython-37.pyc matches /anaconda3/envs/experiment/lib/python3.7/warnings.py\r\n",
      "# code object from '/anaconda3/envs/experiment/lib/python3.7/__pycache__/warnings.cpython-37.pyc'\r\n",
      "import 'warnings' # <_frozen_importlib_external.SourceFileLoader object at 0x109370b90>\r\n",
      "import 'importlib' # <_frozen_importlib_external.SourceFileLoader object at 0x109379b90>\r\n",
      "# /anaconda3/envs/experiment/lib/python3.7/importlib/__pycache__/util.cpython-37.pyc matches /anaconda3/envs/experiment/lib/python3.7/importlib/util.py\r\n",
      "# code object from '/anaconda3/envs/experiment/lib/python3.7/importlib/__pycache__/util.cpython-37.pyc'\r\n",
      "# /anaconda3/envs/experiment/lib/python3.7/importlib/__pycache__/abc.cpython-37.pyc matches /anaconda3/envs/experiment/lib/python3.7/importlib/abc.py\r\n",
      "# code object from '/anaconda3/envs/experiment/lib/python3.7/importlib/__pycache__/abc.cpython-37.pyc'\r\n",
      "# /anaconda3/envs/experiment/lib/python3.7/importlib/__pycache__/machinery.cpython-37.pyc matches /anaconda3/envs/experiment/lib/python3.7/importlib/machinery.py\r\n",
      "# code object from '/anaconda3/envs/experiment/lib/python3.7/importlib/__pycache__/machinery.cpython-37.pyc'\r\n",
      "import 'importlib.machinery' # <_frozen_importlib_external.SourceFileLoader object at 0x109383fd0>\r\n",
      "import 'importlib.abc' # <_frozen_importlib_external.SourceFileLoader object at 0x109383250>\r\n",
      "# /anaconda3/envs/experiment/lib/python3.7/__pycache__/contextlib.cpython-37.pyc matches /anaconda3/envs/experiment/lib/python3.7/contextlib.py\r\n",
      "# code object from '/anaconda3/envs/experiment/lib/python3.7/__pycache__/contextlib.cpython-37.pyc'\r\n",
      "# /anaconda3/envs/experiment/lib/python3.7/collections/__pycache__/__init__.cpython-37.pyc matches /anaconda3/envs/experiment/lib/python3.7/collections/__init__.py\r\n",
      "# code object from '/anaconda3/envs/experiment/lib/python3.7/collections/__pycache__/__init__.cpython-37.pyc'\r\n",
      "# /anaconda3/envs/experiment/lib/python3.7/__pycache__/operator.cpython-37.pyc matches /anaconda3/envs/experiment/lib/python3.7/operator.py\r\n",
      "# code object from '/anaconda3/envs/experiment/lib/python3.7/__pycache__/operator.cpython-37.pyc'\r\n",
      "import '_operator' # <class '_frozen_importlib.BuiltinImporter'>\r\n",
      "import 'operator' # <_frozen_importlib_external.SourceFileLoader object at 0x1097e4dd0>\r\n",
      "# /anaconda3/envs/experiment/lib/python3.7/__pycache__/keyword.cpython-37.pyc matches /anaconda3/envs/experiment/lib/python3.7/keyword.py\r\n",
      "# code object from '/anaconda3/envs/experiment/lib/python3.7/__pycache__/keyword.cpython-37.pyc'\r\n",
      "import 'keyword' # <_frozen_importlib_external.SourceFileLoader object at 0x1097e9b10>\r\n",
      "# /anaconda3/envs/experiment/lib/python3.7/__pycache__/heapq.cpython-37.pyc matches /anaconda3/envs/experiment/lib/python3.7/heapq.py\r\n",
      "# code object from '/anaconda3/envs/experiment/lib/python3.7/__pycache__/heapq.cpython-37.pyc'\r\n",
      "# extension module '_heapq' loaded from '/anaconda3/envs/experiment/lib/python3.7/lib-dynload/_heapq.cpython-37m-darwin.so'\r\n",
      "# extension module '_heapq' executed from '/anaconda3/envs/experiment/lib/python3.7/lib-dynload/_heapq.cpython-37m-darwin.so'\r\n",
      "import '_heapq' # <_frozen_importlib_external.ExtensionFileLoader object at 0x1097fc390>\r\n",
      "import 'heapq' # <_frozen_importlib_external.SourceFileLoader object at 0x1097f6550>\r\n",
      "import 'itertools' # <class '_frozen_importlib.BuiltinImporter'>\r\n",
      "# /anaconda3/envs/experiment/lib/python3.7/__pycache__/reprlib.cpython-37.pyc matches /anaconda3/envs/experiment/lib/python3.7/reprlib.py\r\n",
      "# code object from '/anaconda3/envs/experiment/lib/python3.7/__pycache__/reprlib.cpython-37.pyc'\r\n",
      "import 'reprlib' # <_frozen_importlib_external.SourceFileLoader object at 0x1097fc710>\r\n",
      "import '_collections' # <class '_frozen_importlib.BuiltinImporter'>\r\n",
      "import 'collections' # <_frozen_importlib_external.SourceFileLoader object at 0x1097c48d0>\r\n",
      "# /anaconda3/envs/experiment/lib/python3.7/__pycache__/functools.cpython-37.pyc matches /anaconda3/envs/experiment/lib/python3.7/functools.py\r\n",
      "# code object from '/anaconda3/envs/experiment/lib/python3.7/__pycache__/functools.cpython-37.pyc'\r\n",
      "import '_functools' # <class '_frozen_importlib.BuiltinImporter'>\r\n",
      "import 'functools' # <_frozen_importlib_external.SourceFileLoader object at 0x1097c4fd0>\r\n",
      "import 'contextlib' # <_frozen_importlib_external.SourceFileLoader object at 0x109383a10>\r\n",
      "import 'importlib.util' # <_frozen_importlib_external.SourceFileLoader object at 0x109377a50>\r\n",
      "# possible namespace for /anaconda3/envs/experiment/lib/python3.7/site-packages/google\r\n",
      "import 'site' # <_frozen_importlib_external.SourceFileLoader object at 0x1092b2210>\r\n",
      "Python 3.7.9 (default, Aug 31 2020, 07:22:35) \r\n",
      "[Clang 10.0.0 ] :: Anaconda, Inc. on darwin\r\n",
      "Type \"help\", \"copyright\", \"credits\" or \"license\" for more information.\r\n",
      "# extension module 'readline' loaded from '/anaconda3/envs/experiment/lib/python3.7/lib-dynload/readline.cpython-37m-darwin.so'\r\n",
      "# extension module 'readline' executed from '/anaconda3/envs/experiment/lib/python3.7/lib-dynload/readline.cpython-37m-darwin.so'\r\n",
      "import 'readline' # <_frozen_importlib_external.ExtensionFileLoader object at 0x10982a6d0>\r\n",
      "import 'atexit' # <class '_frozen_importlib.BuiltinImporter'>\r\n",
      "# /anaconda3/envs/experiment/lib/python3.7/__pycache__/rlcompleter.cpython-37.pyc matches /anaconda3/envs/experiment/lib/python3.7/rlcompleter.py\r\n",
      "# code object from '/anaconda3/envs/experiment/lib/python3.7/__pycache__/rlcompleter.cpython-37.pyc'\r\n",
      "import 'rlcompleter' # <_frozen_importlib_external.SourceFileLoader object at 0x10982abd0>\r\n",
      ">>> "
     ]
    }
   ],
   "source": [
    "! python -v"
   ]
  },
  {
   "cell_type": "code",
   "execution_count": null,
   "metadata": {},
   "outputs": [],
   "source": []
  }
 ],
 "metadata": {
  "kernelspec": {
   "display_name": "Python 3",
   "language": "python",
   "name": "python3"
  },
  "language_info": {
   "codemirror_mode": {
    "name": "ipython",
    "version": 3
   },
   "file_extension": ".py",
   "mimetype": "text/x-python",
   "name": "python",
   "nbconvert_exporter": "python",
   "pygments_lexer": "ipython3",
   "version": "3.7.9"
  }
 },
 "nbformat": 4,
 "nbformat_minor": 4
}
