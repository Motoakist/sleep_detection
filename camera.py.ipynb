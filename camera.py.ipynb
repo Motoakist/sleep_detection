{
 "cells": [
  {
   "cell_type": "code",
   "execution_count": 3,
   "metadata": {},
   "outputs": [],
   "source": [
    "import cv2\n",
    "\n",
    "deviceid = 0  # it depends on the order of USB connection.\n",
    "for i in range(10):\n",
    "    try:\n",
    "        capture = cv2.VideoCapture(deviceid)\n",
    "\n",
    "        ret, frame = capture.read()\n",
    "        ret, frame = capture.read()\n",
    "        # cv2.imwrite('test.jpg', frame)\n",
    "        cv2.imwrite('./image/test'+str(i)+'.jpg', frame)\n",
    "\n",
    "    except:\n",
    "        print('camera error')"
   ]
  },
  {
   "cell_type": "code",
   "execution_count": null,
   "metadata": {},
   "outputs": [],
   "source": []
  }
 ],
 "metadata": {
  "kernelspec": {
   "display_name": "Python 3",
   "language": "python",
   "name": "python3"
  },
  "language_info": {
   "codemirror_mode": {
    "name": "ipython",
    "version": 3
   },
   "file_extension": ".py",
   "mimetype": "text/x-python",
   "name": "python",
   "nbconvert_exporter": "python",
   "pygments_lexer": "ipython3",
   "version": "3.6.10"
  }
 },
 "nbformat": 4,
 "nbformat_minor": 4
}
