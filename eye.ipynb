{
 "cells": [
  {
   "cell_type": "code",
   "execution_count": 8,
   "metadata": {},
   "outputs": [
    {
     "name": "stdout",
     "output_type": "stream",
     "text": [
      "faces : ()\n",
      "eyes : ()\n"
     ]
    }
   ],
   "source": [
    "import cv2\n",
    "import time\n",
    "\n",
    "face_cascade_path = \"haarcascade_frontalface_alt.xml\"\n",
    "eye_cascade_path = 'haarcascade_eye.xml'\n",
    "\n",
    "face_cascade = cv2.CascadeClassifier(face_cascade_path)\n",
    "eye_cascade = cv2.CascadeClassifier(eye_cascade_path)\n",
    "\n",
    "src = cv2.imread('image/test13.jpg')\n",
    "# print(\"src\",src)\n",
    "src_gray = cv2.cvtColor(src, cv2.COLOR_BGR2GRAY)\n",
    "equ_gray = cv2.equalizeHist(src_gray)\n",
    "faces = face_cascade.detectMultiScale(equ_gray,scaleFactor=1.13,minNeighbors=2)\n",
    "eyes = ()\n",
    "for x, y, w, h in faces:\n",
    "    print()\n",
    "    cv2.rectangle(src, (x, y), (x + w, y + h), (255, 0, 255), 2)\n",
    "    face = src[y: y + h, x: x + w]\n",
    "    face_gray = src_gray[y: y + h, x: x + w]\n",
    "    eyes = eye_cascade.detectMultiScale(face_gray)\n",
    "    for (ex, ey, ew, eh) in eyes:\n",
    "        cv2.rectangle(face, (ex, ey), (ex + ew, ey + eh), (0, 255, 0), 2)\n",
    "cv2.imwrite('./opencv_face_detect_rectangle.jpg', src)\n",
    "print(f\"faces : {faces}\")\n",
    "print(f\"eyes : {eyes}\")\n",
    "# print(\"faces : \",faces)\n",
    "# print(\"eyes : \",eyes)\n",
    "for x, y, w, h in faces:\n",
    "    face = src[y: y + h, x: x + w]\n",
    "    for (ex, ey, ew, eh) in eyes:\n",
    "        cut_img = face[ey : ey + eh, ex:ex + ew]\n",
    "        cv2.imwrite(\"image_eyes/\"+str(time.time())+\".jpg\", cut_img)"
   ]
  },
  {
   "cell_type": "code",
   "execution_count": 4,
   "metadata": {},
   "outputs": [
    {
     "data": {
      "text/plain": [
       "tuple"
      ]
     },
     "execution_count": 4,
     "metadata": {},
     "output_type": "execute_result"
    }
   ],
   "source": [
    "type(faces)"
   ]
  },
  {
   "cell_type": "code",
   "execution_count": null,
   "metadata": {},
   "outputs": [],
   "source": []
  }
 ],
 "metadata": {
  "kernelspec": {
   "display_name": "Python 3",
   "language": "python",
   "name": "python3"
  },
  "language_info": {
   "codemirror_mode": {
    "name": "ipython",
    "version": 3
   },
   "file_extension": ".py",
   "mimetype": "text/x-python",
   "name": "python",
   "nbconvert_exporter": "python",
   "pygments_lexer": "ipython3",
   "version": "3.6.10"
  }
 },
 "nbformat": 4,
 "nbformat_minor": 4
}
